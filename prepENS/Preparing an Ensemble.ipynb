{
 "cells": [
  {
   "cell_type": "code",
   "execution_count": 27,
   "metadata": {},
   "outputs": [
    {
     "data": {
      "text/plain": [
       "<module 'prepENS' from 'prepENS.pyc'>"
      ]
     },
     "execution_count": 27,
     "metadata": {},
     "output_type": "execute_result"
    }
   ],
   "source": [
    "import prepENS as pE\n",
    "reload(pE)"
   ]
  },
  {
   "cell_type": "code",
   "execution_count": 28,
   "metadata": {},
   "outputs": [],
   "source": [
    "query='Q7NDN8'\n",
    "mer=5\n",
    "altloc='A'\n",
    "cwd='.'"
   ]
  },
  {
   "cell_type": "code",
   "execution_count": 29,
   "metadata": {},
   "outputs": [
    {
     "name": "stdout",
     "output_type": "stream",
     "text": [
      "Q7NDN8\n"
     ]
    },
    {
     "name": "stderr",
     "output_type": "stream",
     "text": [
      "WARNING:root:Cannot process PDB id 3IGQ. It does not contain complete set\n",
      "CRITICAL:root:PDB ID 4YEU is a chimera, skipping this file\n",
      "CRITICAL:root:PDB ID 5OSA is a chimera, skipping this file\n",
      "CRITICAL:root:PDB ID 5OSC is a chimera, skipping this file\n",
      "CRITICAL:root:PDB ID 5OSB is a chimera, skipping this file\n",
      "CRITICAL:root:PDB ID 4X5T is a chimera, skipping this file\n"
     ]
    }
   ],
   "source": [
    "print query\n",
    "info=pE.PDBInfo(query,mer)\n",
    "pE.downloadPDB(info.result,mer,altloc,info.refseq,query,cwd)"
   ]
  },
  {
   "cell_type": "code",
   "execution_count": 30,
   "metadata": {},
   "outputs": [
    {
     "name": "stderr",
     "output_type": "stream",
     "text": [
      "CRITICAL:root:4NPQ_2.pdb|H| contains insertions or missing residues, skipping this chain and the assembly it belongs to.\n",
      "CRITICAL:root:4NPQ_2.pdb|I| contains insertions or missing residues, skipping this chain and the assembly it belongs to.\n",
      "CRITICAL:root:4NPQ_3.pdb|K| contains insertions or missing residues, skipping this chain and the assembly it belongs to.\n",
      "CRITICAL:root:4NPQ_3.pdb|L| contains insertions or missing residues, skipping this chain and the assembly it belongs to.\n",
      "CRITICAL:root:4NPQ_3.pdb|M| contains insertions or missing residues, skipping this chain and the assembly it belongs to.\n",
      "CRITICAL:root:4NPQ_4.pdb|S| contains insertions or missing residues, skipping this chain and the assembly it belongs to.\n",
      "CRITICAL:root:3UU3_1.pdb|A| contains insertions or missing residues, skipping this chain and the assembly it belongs to.\n",
      "CRITICAL:root:3UU3_1.pdb|B| contains insertions or missing residues, skipping this chain and the assembly it belongs to.\n",
      "CRITICAL:root:3UU3_1.pdb|C| contains insertions or missing residues, skipping this chain and the assembly it belongs to.\n",
      "CRITICAL:root:3UU3_1.pdb|D| contains insertions or missing residues, skipping this chain and the assembly it belongs to.\n",
      "CRITICAL:root:3UU3_1.pdb|E| contains insertions or missing residues, skipping this chain and the assembly it belongs to.\n",
      "CRITICAL:root:4ILA_1.pdb|E| contains insertions or missing residues, skipping this chain and the assembly it belongs to.\n"
     ]
    },
    {
     "name": "stdout",
     "output_type": "stream",
     "text": [
      "{'6F0R_1.pdb': ['A', 'B', 'C', 'D', 'E'], '2XQ6_1.pdb': ['A', 'B', 'C', 'D', 'E'], '4HFI_1.pdb': ['A', 'B', 'C', 'D', 'E'], '6F0M_1.pdb': ['A', 'B', 'C', 'D', 'E'], '4LML_1.pdb': ['A', 'B', 'C', 'D', 'E'], '2XQ8_1.pdb': ['A', 'B', 'C', 'D', 'E'], '3UU8_1.pdb': ['A', 'B', 'C', 'D', 'E'], '6EMX_1.pdb': ['A', 'B', 'C', 'D', 'E'], '6F15_1.pdb': ['A', 'B', 'C', 'D', 'E'], '4HFB_1.pdb': ['A', 'B', 'C', 'D', 'E'], '6F11_1.pdb': ['A', 'B', 'C', 'D', 'E'], '5MVN_1.pdb': ['A', 'B', 'C', 'D', 'E'], '3EAM_1.pdb': ['A', 'B', 'C', 'D', 'E'], '5MZQ_1.pdb': ['A', 'B', 'C', 'D', 'E'], '4ILC_1.pdb': ['A', 'B', 'C', 'D', 'E'], '5IUX_1.pdb': ['A', 'B', 'C', 'D', 'E'], '2XQ5_1.pdb': ['A', 'B', 'C', 'D', 'E'], '6F10_1.pdb': ['A', 'B', 'C', 'D', 'E'], '4HFH_1.pdb': ['A', 'B', 'C', 'D', 'E'], '4ILB_1.pdb': ['A', 'B', 'C', 'D', 'E'], '4IL9_1.pdb': ['A', 'B', 'C', 'D', 'E'], '5MVM_1.pdb': ['A', 'B', 'C', 'D', 'E'], '4LMK_1.pdb': ['A', 'B', 'C', 'D', 'E'], '4QH4_1.pdb': ['A', 'B', 'C', 'D', 'E'], '6F0J_1.pdb': ['A', 'B', 'C', 'D', 'E'], '3P4W_1.pdb': ['A', 'B', 'C', 'D', 'E'], '2XQ4_1.pdb': ['A', 'B', 'C', 'D', 'E'], '3TLT_1.pdb': ['A', 'B', 'C', 'D', 'E'], '5MZT_1.pdb': ['A', 'B', 'C', 'D', 'E'], '5MZR_1.pdb': ['A', 'B', 'C', 'D', 'E'], '6F7A_1.pdb': ['A', 'B', 'C', 'D', 'E'], '3UUB_2.pdb': ['F', 'G', 'H', 'I', 'J'], '6F0V_1.pdb': ['A', 'B', 'C', 'D', 'E'], '4IRE_1.pdb': ['A', 'B', 'C', 'D', 'E'], '5HEH_1.pdb': ['A', 'B', 'C', 'D', 'E'], '6F13_1.pdb': ['A', 'B', 'C', 'D', 'E'], '6F16_1.pdb': ['A', 'B', 'C', 'D', 'E'], '2XQ7_1.pdb': ['A', 'B', 'C', 'D', 'E'], '5MUO_1.pdb': ['A', 'B', 'C', 'D', 'E'], '4ZZB_1.pdb': ['A', 'B', 'C', 'D', 'E'], '3TLW_1.pdb': ['A', 'B', 'C', 'D', 'E'], '5NJY_1.pdb': ['A', 'B', 'C', 'D', 'E'], '3UU4_1.pdb': ['A', 'B', 'C', 'D', 'E'], '4QH1_1.pdb': ['A', 'B', 'C', 'D', 'E'], '4ZZC_1.pdb': ['A', 'B', 'C', 'D', 'E'], '4F8H_1.pdb': ['A', 'B', 'C', 'D', 'E'], '4QH5_1.pdb': ['A', 'B', 'C', 'D', 'E'], '6F12_1.pdb': ['A', 'B', 'C', 'D', 'E'], '4HFD_1.pdb': ['A', 'B', 'C', 'D', 'E'], '3TLU_1.pdb': ['A', 'B', 'C', 'D', 'E'], '3UUB_1.pdb': ['A', 'B', 'C', 'D', 'E'], '4HFE_1.pdb': ['A', 'B', 'C', 'D', 'E'], '2XQA_1.pdb': ['A', 'B', 'C', 'D', 'E'], '4LMJ_1.pdb': ['A', 'B', 'C', 'D', 'E'], '5L4E_1.pdb': ['A', 'B', 'C', 'D', 'E'], '3TLV_1.pdb': ['A', 'B', 'C', 'D', 'E'], '5V6N_1.pdb': ['A', 'B', 'C', 'D', 'E'], '4NPQ_1.pdb': ['A', 'B', 'C', 'D', 'E'], '5MUR_1.pdb': ['A', 'B', 'C', 'D', 'E'], '6F0N_1.pdb': ['A', 'B', 'C', 'D', 'E'], '5L4H_1.pdb': ['A', 'B', 'C', 'D', 'E'], '3P50_1.pdb': ['A', 'B', 'C', 'D', 'E'], '6F0U_1.pdb': ['A', 'B', 'C', 'D', 'E'], '3UU5_1.pdb': ['A', 'B', 'C', 'D', 'E'], '2XQ9_1.pdb': ['A', 'B', 'C', 'D', 'E'], '4IL4_1.pdb': ['A', 'B', 'C', 'D', 'E'], '3TLS_1.pdb': ['A', 'B', 'C', 'D', 'E'], '5HEG_1.pdb': ['A', 'B', 'C', 'D', 'E'], '3EI0_1.pdb': ['A', 'B', 'C', 'D', 'E'], '5HCJ_1.pdb': ['A', 'B', 'C', 'D', 'E'], '5HCM_1.pdb': ['A', 'B', 'C', 'D', 'E'], '3UU6_1.pdb': ['A', 'B', 'C', 'D', 'E'], '6F0Z_1.pdb': ['A', 'B', 'C', 'D', 'E'], '5L47_1.pdb': ['A', 'B', 'C', 'D', 'E'], '6F0I_1.pdb': ['A', 'B', 'C', 'D', 'E'], '2XQ3_1.pdb': ['A', 'B', 'C', 'D', 'E'], '5J0Z_1.pdb': ['A', 'B', 'C', 'D', 'E'], '3EHZ_1.pdb': ['A', 'B', 'C', 'D', 'E'], '4NPP_1.pdb': ['A', 'B', 'C', 'D', 'E'], '5V6O_1.pdb': ['A', 'B', 'C', 'D', 'E'], '5NKJ_1.pdb': ['A', 'B', 'C', 'D', 'E'], '4HFC_1.pdb': ['A', 'B', 'C', 'D', 'E']}\n"
     ]
    }
   ],
   "source": [
    "clustalopath=\"/Users/cattibrie_fr/anaconda/anaconda/bin/clustalo\"\n",
    "pE.msa(query+'_seq.txt',query+'_residmap.txt',query,cwd,clustalopath,info.result,info.mer)"
   ]
  },
  {
   "cell_type": "code",
   "execution_count": 24,
   "metadata": {},
   "outputs": [
    {
     "name": "stdout",
     "output_type": "stream",
     "text": [
      "{'6F0R': [1, ['A', 'B', 'C', 'D', 'E']], '6F0U': [1, ['A', 'B', 'C', 'D', 'E']], '6F0V': [1, ['A', 'B', 'C', 'D', 'E']], '6F0Z': [1, ['A', 'B', 'C', 'D', 'E']], '6F0I': [1, ['A', 'B', 'C', 'D', 'E']], '6F0J': [1, ['A', 'B', 'C', 'D', 'E']], '5HCM': [1, ['A', 'B', 'C', 'D', 'E']], '5HCJ': [1, ['A', 'B', 'C', 'D', 'E']], '6F0M': [1, ['A', 'B', 'C', 'D', 'E']], '6F0N': [1, ['A', 'B', 'C', 'D', 'E']], '4NPP': [1, ['A', 'B', 'C', 'D', 'E']], '4NPQ': [4, [['A', 'B', 'C', 'D', 'E'], ['F', 'G', 'H', 'I', 'J'], ['K', 'L', 'M', 'N', 'O'], ['P', 'Q', 'R', 'S', 'T']]], '5NJY': [1, ['A', 'B', 'C', 'D', 'E']], '4IRE': [1, ['A', 'B', 'C', 'D', 'E']], '4QH1': [1, ['A', 'B', 'C', 'D', 'E']], '6F7A': [1, ['A', 'B', 'C', 'D', 'E']], '4F8H': [1, ['A', 'B', 'C', 'D', 'E']], '5HEG': [1, ['A', 'B', 'C', 'D', 'E']], '3EHZ': [1, ['A', 'B', 'C', 'D', 'E']], '5HEH': [1, ['A', 'B', 'C', 'D', 'E']], '3TLU': [1, ['A', 'B', 'C', 'D', 'E']], '3TLT': [1, ['A', 'B', 'C', 'D', 'E']], '3TLW': [1, ['A', 'B', 'C', 'D', 'E']], '3TLV': [1, ['A', 'B', 'C', 'D', 'E']], '3TLS': [1, ['A', 'B', 'C', 'D', 'E']], '6F13': [1, ['A', 'B', 'C', 'D', 'E']], '6F12': [1, ['A', 'B', 'C', 'D', 'E']], '6F11': [1, ['A', 'B', 'C', 'D', 'E']], '6F10': [1, ['A', 'B', 'C', 'D', 'E']], '6F16': [1, ['A', 'B', 'C', 'D', 'E']], '6F15': [1, ['A', 'B', 'C', 'D', 'E']], '3P4W': [1, ['A', 'B', 'C', 'D', 'E']], '3EAM': [1, ['A', 'B', 'C', 'D', 'E']], '4LMK': [1, ['A', 'B', 'C', 'D', 'E']], '4LMJ': [1, ['A', 'B', 'C', 'D', 'E']], '4QH5': [1, ['A', 'B', 'C', 'D', 'E']], '4QH4': [1, ['A', 'B', 'C', 'D', 'E']], '4LML': [1, ['A', 'B', 'C', 'D', 'E']], '5V6O': [1, ['A', 'B', 'C', 'D', 'E']], '3UU5': [1, ['A', 'B', 'C', 'D', 'E']], '5V6N': [1, ['A', 'B', 'C', 'D', 'E']], '3EI0': [1, ['A', 'B', 'C', 'D', 'E']], '5IUX': [1, ['A', 'B', 'C', 'D', 'E']], '5NKJ': [1, ['A', 'B', 'C', 'D', 'E']], '5MVM': [1, ['A', 'B', 'C', 'D', 'E']], '5MVN': [1, ['A', 'B', 'C', 'D', 'E']], '3UU6': [1, ['A', 'B', 'C', 'D', 'E']], '5MUO': [1, ['A', 'B', 'C', 'D', 'E']], '3UU4': [1, ['A', 'B', 'C', 'D', 'E']], '3UU3': [1, ['A', 'B', 'C', 'D', 'E']], '3UU8': [1, ['A', 'B', 'C', 'D', 'E']], '2XQA': [1, ['A', 'B', 'C', 'D', 'E']], '4ZZB': [1, ['A', 'B', 'C', 'D', 'E']], '4ILB': [1, ['A', 'B', 'C', 'D', 'E']], '5MUR': [1, ['A', 'B', 'C', 'D', 'E']], '2XQ5': [1, ['A', 'B', 'C', 'D', 'E']], '2XQ4': [1, ['A', 'B', 'C', 'D', 'E']], '2XQ7': [1, ['A', 'B', 'C', 'D', 'E']], '2XQ6': [1, ['A', 'B', 'C', 'D', 'E']], '2XQ3': [1, ['A', 'B', 'C', 'D', 'E']], '2XQ9': [1, ['A', 'B', 'C', 'D', 'E']], '2XQ8': [1, ['A', 'B', 'C', 'D', 'E']], '3UUB': [2, [['A', 'B', 'C', 'D', 'E'], ['F', 'G', 'H', 'I', 'J']]], '4HFH': [1, ['A', 'B', 'C', 'D', 'E']], '4HFI': [1, ['A', 'B', 'C', 'D', 'E']], '4HFB': [1, ['A', 'B', 'C', 'D', 'E']], '4HFC': [1, ['A', 'B', 'C', 'D', 'E']], '4HFD': [1, ['A', 'B', 'C', 'D', 'E']], '4HFE': [1, ['A', 'B', 'C', 'D', 'E']], '6EMX': [1, ['A', 'B', 'C', 'D', 'E']], '5MZT': [1, ['A', 'B', 'C', 'D', 'E']], '3P50': [1, ['A', 'B', 'C', 'D', 'E']], '5MZQ': [1, ['A', 'B', 'C', 'D', 'E']], '5MZR': [1, ['A', 'B', 'C', 'D', 'E']], '5L47': [1, ['A', 'B', 'C', 'D', 'E']], '4IL9': [1, ['A', 'B', 'C', 'D', 'E']], '4IL4': [1, ['A', 'B', 'C', 'D', 'E']], '4ILA': [1, ['A', 'B', 'C', 'D', 'E']], '4ILC': [1, ['A', 'B', 'C', 'D', 'E']], '4ZZC': [1, ['A', 'B', 'C', 'D', 'E']], '5L4E': [1, ['A', 'B', 'C', 'D', 'E']], '5L4H': [1, ['A', 'B', 'C', 'D', 'E']], '5J0Z': [1, ['A', 'B', 'C', 'D', 'E']]}\n"
     ]
    }
   ],
   "source": [
    "print info.result"
   ]
  },
  {
   "cell_type": "code",
   "execution_count": null,
   "metadata": {},
   "outputs": [],
   "source": []
  }
 ],
 "metadata": {
  "kernelspec": {
   "display_name": "Python 2",
   "language": "python",
   "name": "python2"
  },
  "language_info": {
   "codemirror_mode": {
    "name": "ipython",
    "version": 2
   },
   "file_extension": ".py",
   "mimetype": "text/x-python",
   "name": "python",
   "nbconvert_exporter": "python",
   "pygments_lexer": "ipython2",
   "version": "2.7.15"
  }
 },
 "nbformat": 4,
 "nbformat_minor": 2
}
